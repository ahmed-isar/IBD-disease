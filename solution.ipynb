{
 "cells": [
  {
   "cell_type": "code",
   "execution_count": 1,
   "id": "722625e2",
   "metadata": {
    "ExecuteTime": {
     "end_time": "2022-03-30T07:22:20.687296Z",
     "start_time": "2022-03-30T07:22:19.893553Z"
    }
   },
   "outputs": [],
   "source": [
    "import numpy as np\n",
    "import pandas as pd\n",
    "import matplotlib.pyplot as plt\n",
    "import seaborn as sns"
   ]
  },
  {
   "cell_type": "code",
   "execution_count": 2,
   "id": "61f291d8",
   "metadata": {
    "ExecuteTime": {
     "end_time": "2022-03-30T07:22:20.746335Z",
     "start_time": "2022-03-30T07:22:20.688994Z"
    }
   },
   "outputs": [
    {
     "name": "stdout",
     "output_type": "stream",
     "text": [
      "<class 'pandas.core.frame.DataFrame'>\n",
      "RangeIndex: 33699 entries, 0 to 33698\n",
      "Data columns (total 11 columns):\n",
      " #   Column           Non-Null Count  Dtype  \n",
      "---  ------           --------------  -----  \n",
      " 0   pt_ID            33699 non-null  int64  \n",
      " 1   gender           33694 non-null  float64\n",
      " 2   diagnosis        33264 non-null  float64\n",
      " 3   hosp_admin       32573 non-null  float64\n",
      " 4   age_band_jan1    33265 non-null  object \n",
      " 5   bmi              20403 non-null  float64\n",
      " 6   smoker           22210 non-null  object \n",
      " 7   past_smoker      19072 non-null  object \n",
      " 8   diet_preference  22159 non-null  object \n",
      " 9   cancer           1481 non-null   object \n",
      " 10  heart_disease    1378 non-null   object \n",
      "dtypes: float64(4), int64(1), object(6)\n",
      "memory usage: 2.8+ MB\n",
      "None\n"
     ]
    },
    {
     "data": {
      "text/html": [
       "<div>\n",
       "<style scoped>\n",
       "    .dataframe tbody tr th:only-of-type {\n",
       "        vertical-align: middle;\n",
       "    }\n",
       "\n",
       "    .dataframe tbody tr th {\n",
       "        vertical-align: top;\n",
       "    }\n",
       "\n",
       "    .dataframe thead th {\n",
       "        text-align: right;\n",
       "    }\n",
       "</style>\n",
       "<table border=\"1\" class=\"dataframe\">\n",
       "  <thead>\n",
       "    <tr style=\"text-align: right;\">\n",
       "      <th></th>\n",
       "      <th>pt_ID</th>\n",
       "      <th>gender</th>\n",
       "      <th>diagnosis</th>\n",
       "      <th>hosp_admin</th>\n",
       "      <th>age_band_jan1</th>\n",
       "      <th>bmi</th>\n",
       "      <th>smoker</th>\n",
       "      <th>past_smoker</th>\n",
       "      <th>diet_preference</th>\n",
       "      <th>cancer</th>\n",
       "      <th>heart_disease</th>\n",
       "    </tr>\n",
       "  </thead>\n",
       "  <tbody>\n",
       "    <tr>\n",
       "      <th>0</th>\n",
       "      <td>0</td>\n",
       "      <td>2.0</td>\n",
       "      <td>2.0</td>\n",
       "      <td>2.0</td>\n",
       "      <td>55-59</td>\n",
       "      <td>25.2</td>\n",
       "      <td>No</td>\n",
       "      <td>Yes</td>\n",
       "      <td>No_pref</td>\n",
       "      <td>NaN</td>\n",
       "      <td>NaN</td>\n",
       "    </tr>\n",
       "    <tr>\n",
       "      <th>1</th>\n",
       "      <td>1</td>\n",
       "      <td>1.0</td>\n",
       "      <td>1.0</td>\n",
       "      <td>2.0</td>\n",
       "      <td>50-54</td>\n",
       "      <td>31.2</td>\n",
       "      <td>No</td>\n",
       "      <td>Yes</td>\n",
       "      <td>No_pref</td>\n",
       "      <td>NaN</td>\n",
       "      <td>NaN</td>\n",
       "    </tr>\n",
       "    <tr>\n",
       "      <th>2</th>\n",
       "      <td>2</td>\n",
       "      <td>1.0</td>\n",
       "      <td>2.0</td>\n",
       "      <td>1.0</td>\n",
       "      <td>30-34</td>\n",
       "      <td>28.4</td>\n",
       "      <td>No</td>\n",
       "      <td>Yes</td>\n",
       "      <td>No_pref</td>\n",
       "      <td>NaN</td>\n",
       "      <td>NaN</td>\n",
       "    </tr>\n",
       "    <tr>\n",
       "      <th>3</th>\n",
       "      <td>3</td>\n",
       "      <td>2.0</td>\n",
       "      <td>1.0</td>\n",
       "      <td>2.0</td>\n",
       "      <td>50-54</td>\n",
       "      <td>NaN</td>\n",
       "      <td>NaN</td>\n",
       "      <td>NaN</td>\n",
       "      <td>NaN</td>\n",
       "      <td>NaN</td>\n",
       "      <td>NaN</td>\n",
       "    </tr>\n",
       "    <tr>\n",
       "      <th>4</th>\n",
       "      <td>4</td>\n",
       "      <td>2.0</td>\n",
       "      <td>2.0</td>\n",
       "      <td>2.0</td>\n",
       "      <td>50-54</td>\n",
       "      <td>28.6</td>\n",
       "      <td>No</td>\n",
       "      <td>No</td>\n",
       "      <td>No_pref</td>\n",
       "      <td>NaN</td>\n",
       "      <td>NaN</td>\n",
       "    </tr>\n",
       "  </tbody>\n",
       "</table>\n",
       "</div>"
      ],
      "text/plain": [
       "   pt_ID  gender  diagnosis  hosp_admin age_band_jan1   bmi smoker  \\\n",
       "0      0     2.0        2.0         2.0         55-59  25.2     No   \n",
       "1      1     1.0        1.0         2.0         50-54  31.2     No   \n",
       "2      2     1.0        2.0         1.0         30-34  28.4     No   \n",
       "3      3     2.0        1.0         2.0         50-54   NaN    NaN   \n",
       "4      4     2.0        2.0         2.0         50-54  28.6     No   \n",
       "\n",
       "  past_smoker diet_preference cancer heart_disease  \n",
       "0         Yes         No_pref    NaN           NaN  \n",
       "1         Yes         No_pref    NaN           NaN  \n",
       "2         Yes         No_pref    NaN           NaN  \n",
       "3         NaN             NaN    NaN           NaN  \n",
       "4          No         No_pref    NaN           NaN  "
      ]
     },
     "execution_count": 2,
     "metadata": {},
     "output_type": "execute_result"
    }
   ],
   "source": [
    "data_path = 'data.csv'\n",
    "data = pd.read_csv(data_path)\n",
    "print(data.info())\n",
    "data.head()"
   ]
  },
  {
   "cell_type": "markdown",
   "id": "6b7c6d7e",
   "metadata": {},
   "source": [
    "# Question 1: show the age of participants and BMI\n"
   ]
  },
  {
   "cell_type": "code",
   "execution_count": 3,
   "id": "0fd584c2",
   "metadata": {
    "ExecuteTime": {
     "end_time": "2022-03-30T07:22:20.754663Z",
     "start_time": "2022-03-30T07:22:20.748750Z"
    }
   },
   "outputs": [],
   "source": [
    "def bmi_to_cat(bmi):\n",
    "    cat = ''\n",
    "    if bmi <= 18.5:\n",
    "        cat = 'underweight'\n",
    "    elif bmi <= 24.9:\n",
    "        cat = 'healthy weight'\n",
    "    elif bmi <= 29.9:\n",
    "        cat = 'overweight'\n",
    "    elif bmi <= 39.9:\n",
    "        cat = 'obese'\n",
    "    else:\n",
    "        cat = 'severely obese'\n",
    "    return cat"
   ]
  },
  {
   "cell_type": "code",
   "execution_count": 4,
   "id": "6cfd1c8b",
   "metadata": {
    "ExecuteTime": {
     "end_time": "2022-03-30T07:22:20.846701Z",
     "start_time": "2022-03-30T07:22:20.757390Z"
    }
   },
   "outputs": [
    {
     "name": "stderr",
     "output_type": "stream",
     "text": [
      "/tmp/ipykernel_7448/4111933477.py:2: SettingWithCopyWarning: \n",
      "A value is trying to be set on a copy of a slice from a DataFrame.\n",
      "Try using .loc[row_indexer,col_indexer] = value instead\n",
      "\n",
      "See the caveats in the documentation: https://pandas.pydata.org/pandas-docs/stable/user_guide/indexing.html#returning-a-view-versus-a-copy\n",
      "  data_q1['bmi_categories'] = data_q1.bmi.apply(bmi_to_cat)\n"
     ]
    },
    {
     "data": {
      "text/html": [
       "<div>\n",
       "<style scoped>\n",
       "    .dataframe tbody tr th:only-of-type {\n",
       "        vertical-align: middle;\n",
       "    }\n",
       "\n",
       "    .dataframe tbody tr th {\n",
       "        vertical-align: top;\n",
       "    }\n",
       "\n",
       "    .dataframe thead th {\n",
       "        text-align: right;\n",
       "    }\n",
       "</style>\n",
       "<table border=\"1\" class=\"dataframe\">\n",
       "  <thead>\n",
       "    <tr style=\"text-align: right;\">\n",
       "      <th></th>\n",
       "      <th>pt_ID</th>\n",
       "      <th>age_band_jan1</th>\n",
       "      <th>bmi_categories</th>\n",
       "    </tr>\n",
       "  </thead>\n",
       "  <tbody>\n",
       "    <tr>\n",
       "      <th>0</th>\n",
       "      <td>0</td>\n",
       "      <td>55-59</td>\n",
       "      <td>overweight</td>\n",
       "    </tr>\n",
       "    <tr>\n",
       "      <th>1</th>\n",
       "      <td>1</td>\n",
       "      <td>50-54</td>\n",
       "      <td>obese</td>\n",
       "    </tr>\n",
       "    <tr>\n",
       "      <th>2</th>\n",
       "      <td>2</td>\n",
       "      <td>30-34</td>\n",
       "      <td>overweight</td>\n",
       "    </tr>\n",
       "    <tr>\n",
       "      <th>3</th>\n",
       "      <td>3</td>\n",
       "      <td>50-54</td>\n",
       "      <td>severely obese</td>\n",
       "    </tr>\n",
       "    <tr>\n",
       "      <th>4</th>\n",
       "      <td>4</td>\n",
       "      <td>50-54</td>\n",
       "      <td>overweight</td>\n",
       "    </tr>\n",
       "  </tbody>\n",
       "</table>\n",
       "</div>"
      ],
      "text/plain": [
       "   pt_ID age_band_jan1  bmi_categories\n",
       "0      0         55-59      overweight\n",
       "1      1         50-54           obese\n",
       "2      2         30-34      overweight\n",
       "3      3         50-54  severely obese\n",
       "4      4         50-54      overweight"
      ]
     },
     "execution_count": 4,
     "metadata": {},
     "output_type": "execute_result"
    }
   ],
   "source": [
    "data_q1 = data[['pt_ID', 'age_band_jan1', 'bmi']]\n",
    "data_q1['bmi_categories'] = data_q1.bmi.apply(bmi_to_cat)\n",
    "del data_q1['bmi']\n",
    "data_q1.head()"
   ]
  },
  {
   "cell_type": "code",
   "execution_count": 5,
   "id": "c8709b42",
   "metadata": {
    "ExecuteTime": {
     "end_time": "2022-03-30T07:22:20.861716Z",
     "start_time": "2022-03-30T07:22:20.849213Z"
    }
   },
   "outputs": [
    {
     "data": {
      "text/html": [
       "<div>\n",
       "<style scoped>\n",
       "    .dataframe tbody tr th:only-of-type {\n",
       "        vertical-align: middle;\n",
       "    }\n",
       "\n",
       "    .dataframe tbody tr th {\n",
       "        vertical-align: top;\n",
       "    }\n",
       "\n",
       "    .dataframe thead th {\n",
       "        text-align: right;\n",
       "    }\n",
       "</style>\n",
       "<table border=\"1\" class=\"dataframe\">\n",
       "  <thead>\n",
       "    <tr style=\"text-align: right;\">\n",
       "      <th></th>\n",
       "      <th>age_band_jan1</th>\n",
       "      <th>bmi_categories</th>\n",
       "      <th>count</th>\n",
       "    </tr>\n",
       "  </thead>\n",
       "  <tbody>\n",
       "    <tr>\n",
       "      <th>0</th>\n",
       "      <td>15-19</td>\n",
       "      <td>healthy weight</td>\n",
       "      <td>59</td>\n",
       "    </tr>\n",
       "    <tr>\n",
       "      <th>1</th>\n",
       "      <td>15-19</td>\n",
       "      <td>obese</td>\n",
       "      <td>4</td>\n",
       "    </tr>\n",
       "    <tr>\n",
       "      <th>2</th>\n",
       "      <td>15-19</td>\n",
       "      <td>overweight</td>\n",
       "      <td>14</td>\n",
       "    </tr>\n",
       "    <tr>\n",
       "      <th>3</th>\n",
       "      <td>15-19</td>\n",
       "      <td>severely obese</td>\n",
       "      <td>119</td>\n",
       "    </tr>\n",
       "    <tr>\n",
       "      <th>4</th>\n",
       "      <td>15-19</td>\n",
       "      <td>underweight</td>\n",
       "      <td>18</td>\n",
       "    </tr>\n",
       "  </tbody>\n",
       "</table>\n",
       "</div>"
      ],
      "text/plain": [
       "  age_band_jan1  bmi_categories  count\n",
       "0         15-19  healthy weight     59\n",
       "1         15-19           obese      4\n",
       "2         15-19      overweight     14\n",
       "3         15-19  severely obese    119\n",
       "4         15-19     underweight     18"
      ]
     },
     "execution_count": 5,
     "metadata": {},
     "output_type": "execute_result"
    }
   ],
   "source": [
    "data_q1 = data_q1.groupby(['age_band_jan1', 'bmi_categories']).count().reset_index()\n",
    "data_q1.columns = [*data_q1.columns[:-1], 'count']\n",
    "data_q1.head()"
   ]
  },
  {
   "cell_type": "code",
   "execution_count": 6,
   "id": "920d2085",
   "metadata": {
    "ExecuteTime": {
     "end_time": "2022-03-30T07:22:20.883901Z",
     "start_time": "2022-03-30T07:22:20.863294Z"
    }
   },
   "outputs": [
    {
     "data": {
      "text/html": [
       "<div>\n",
       "<style scoped>\n",
       "    .dataframe tbody tr th:only-of-type {\n",
       "        vertical-align: middle;\n",
       "    }\n",
       "\n",
       "    .dataframe tbody tr th {\n",
       "        vertical-align: top;\n",
       "    }\n",
       "\n",
       "    .dataframe thead th {\n",
       "        text-align: right;\n",
       "    }\n",
       "</style>\n",
       "<table border=\"1\" class=\"dataframe\">\n",
       "  <thead>\n",
       "    <tr style=\"text-align: right;\">\n",
       "      <th>bmi_categories</th>\n",
       "      <th>age_band_jan1</th>\n",
       "      <th>healthy weight</th>\n",
       "      <th>obese</th>\n",
       "      <th>overweight</th>\n",
       "      <th>severely obese</th>\n",
       "      <th>underweight</th>\n",
       "    </tr>\n",
       "  </thead>\n",
       "  <tbody>\n",
       "    <tr>\n",
       "      <th>0</th>\n",
       "      <td>15-19</td>\n",
       "      <td>59</td>\n",
       "      <td>4</td>\n",
       "      <td>14</td>\n",
       "      <td>119</td>\n",
       "      <td>18</td>\n",
       "    </tr>\n",
       "    <tr>\n",
       "      <th>1</th>\n",
       "      <td>20-24</td>\n",
       "      <td>586</td>\n",
       "      <td>66</td>\n",
       "      <td>159</td>\n",
       "      <td>844</td>\n",
       "      <td>78</td>\n",
       "    </tr>\n",
       "    <tr>\n",
       "      <th>2</th>\n",
       "      <td>25-29</td>\n",
       "      <td>839</td>\n",
       "      <td>168</td>\n",
       "      <td>367</td>\n",
       "      <td>1400</td>\n",
       "      <td>74</td>\n",
       "    </tr>\n",
       "    <tr>\n",
       "      <th>3</th>\n",
       "      <td>30-34</td>\n",
       "      <td>920</td>\n",
       "      <td>259</td>\n",
       "      <td>480</td>\n",
       "      <td>1509</td>\n",
       "      <td>57</td>\n",
       "    </tr>\n",
       "    <tr>\n",
       "      <th>4</th>\n",
       "      <td>35-39</td>\n",
       "      <td>840</td>\n",
       "      <td>308</td>\n",
       "      <td>579</td>\n",
       "      <td>1556</td>\n",
       "      <td>49</td>\n",
       "    </tr>\n",
       "  </tbody>\n",
       "</table>\n",
       "</div>"
      ],
      "text/plain": [
       "bmi_categories age_band_jan1  healthy weight  obese  overweight  \\\n",
       "0                      15-19              59      4          14   \n",
       "1                      20-24             586     66         159   \n",
       "2                      25-29             839    168         367   \n",
       "3                      30-34             920    259         480   \n",
       "4                      35-39             840    308         579   \n",
       "\n",
       "bmi_categories  severely obese  underweight  \n",
       "0                          119           18  \n",
       "1                          844           78  \n",
       "2                         1400           74  \n",
       "3                         1509           57  \n",
       "4                         1556           49  "
      ]
     },
     "execution_count": 6,
     "metadata": {},
     "output_type": "execute_result"
    }
   ],
   "source": [
    "data_q1 = pd.pivot_table(data_q1, values='count', index='age_band_jan1', columns='bmi_categories')\\\n",
    ".reset_index()\n",
    "\n",
    "data_q1.head()"
   ]
  },
  {
   "cell_type": "code",
   "execution_count": 7,
   "id": "c860cfce",
   "metadata": {
    "ExecuteTime": {
     "end_time": "2022-03-30T07:22:20.905778Z",
     "start_time": "2022-03-30T07:22:20.886345Z"
    }
   },
   "outputs": [
    {
     "name": "stderr",
     "output_type": "stream",
     "text": [
      "/tmp/ipykernel_7448/4028084570.py:1: FutureWarning: Dropping of nuisance columns in DataFrame reductions (with 'numeric_only=None') is deprecated; in a future version this will raise TypeError.  Select only valid columns before calling the reduction.\n",
      "  data_q1.iloc[:, 1:] = data_q1.iloc[:, 1:].div(data_q1.sum(axis=1), axis=0)\n"
     ]
    },
    {
     "data": {
      "text/html": [
       "<div>\n",
       "<style scoped>\n",
       "    .dataframe tbody tr th:only-of-type {\n",
       "        vertical-align: middle;\n",
       "    }\n",
       "\n",
       "    .dataframe tbody tr th {\n",
       "        vertical-align: top;\n",
       "    }\n",
       "\n",
       "    .dataframe thead th {\n",
       "        text-align: right;\n",
       "    }\n",
       "</style>\n",
       "<table border=\"1\" class=\"dataframe\">\n",
       "  <thead>\n",
       "    <tr style=\"text-align: right;\">\n",
       "      <th>bmi_categories</th>\n",
       "      <th>age_band_jan1</th>\n",
       "      <th>underweight</th>\n",
       "      <th>healthy weight</th>\n",
       "      <th>overweight</th>\n",
       "      <th>obese</th>\n",
       "      <th>severely obese</th>\n",
       "    </tr>\n",
       "  </thead>\n",
       "  <tbody>\n",
       "    <tr>\n",
       "      <th>0</th>\n",
       "      <td>15-19</td>\n",
       "      <td>0.084112</td>\n",
       "      <td>0.275701</td>\n",
       "      <td>0.065421</td>\n",
       "      <td>0.018692</td>\n",
       "      <td>0.556075</td>\n",
       "    </tr>\n",
       "    <tr>\n",
       "      <th>1</th>\n",
       "      <td>20-24</td>\n",
       "      <td>0.045009</td>\n",
       "      <td>0.338142</td>\n",
       "      <td>0.091748</td>\n",
       "      <td>0.038084</td>\n",
       "      <td>0.487017</td>\n",
       "    </tr>\n",
       "    <tr>\n",
       "      <th>2</th>\n",
       "      <td>25-29</td>\n",
       "      <td>0.025983</td>\n",
       "      <td>0.294593</td>\n",
       "      <td>0.128862</td>\n",
       "      <td>0.058989</td>\n",
       "      <td>0.491573</td>\n",
       "    </tr>\n",
       "    <tr>\n",
       "      <th>3</th>\n",
       "      <td>30-34</td>\n",
       "      <td>0.017674</td>\n",
       "      <td>0.285271</td>\n",
       "      <td>0.148837</td>\n",
       "      <td>0.080310</td>\n",
       "      <td>0.467907</td>\n",
       "    </tr>\n",
       "    <tr>\n",
       "      <th>4</th>\n",
       "      <td>35-39</td>\n",
       "      <td>0.014706</td>\n",
       "      <td>0.252101</td>\n",
       "      <td>0.173770</td>\n",
       "      <td>0.092437</td>\n",
       "      <td>0.466987</td>\n",
       "    </tr>\n",
       "  </tbody>\n",
       "</table>\n",
       "</div>"
      ],
      "text/plain": [
       "bmi_categories age_band_jan1  underweight  healthy weight  overweight  \\\n",
       "0                      15-19     0.084112        0.275701    0.065421   \n",
       "1                      20-24     0.045009        0.338142    0.091748   \n",
       "2                      25-29     0.025983        0.294593    0.128862   \n",
       "3                      30-34     0.017674        0.285271    0.148837   \n",
       "4                      35-39     0.014706        0.252101    0.173770   \n",
       "\n",
       "bmi_categories     obese  severely obese  \n",
       "0               0.018692        0.556075  \n",
       "1               0.038084        0.487017  \n",
       "2               0.058989        0.491573  \n",
       "3               0.080310        0.467907  \n",
       "4               0.092437        0.466987  "
      ]
     },
     "execution_count": 7,
     "metadata": {},
     "output_type": "execute_result"
    }
   ],
   "source": [
    "data_q1.iloc[:, 1:] = data_q1.iloc[:, 1:].div(data_q1.sum(axis=1), axis=0)\n",
    "data_q1 = \\\n",
    "data_q1[['age_band_jan1', 'underweight', 'healthy weight', 'overweight', 'obese', 'severely obese']]\n",
    "data_q1.head()"
   ]
  },
  {
   "cell_type": "code",
   "execution_count": 8,
   "id": "d5843fd0",
   "metadata": {
    "ExecuteTime": {
     "end_time": "2022-03-30T07:22:21.218395Z",
     "start_time": "2022-03-30T07:22:20.907045Z"
    }
   },
   "outputs": [
    {
     "data": {
      "text/plain": [
       "Text(0.5, 1.0, 'BMI categories')"
      ]
     },
     "execution_count": 8,
     "metadata": {},
     "output_type": "execute_result"
    },
    {
     "data": {
      "image/png": "[encoded data removed]",
      "text/plain": [
       "<Figure size 1296x576 with 1 Axes>"
      ]
     },
     "metadata": {
      "needs_background": "light"
     },
     "output_type": "display_data"
    }
   ],
   "source": [
    "data_q1.plot(\n",
    "x='age_band_jan1',\n",
    "kind = 'bar',\n",
    "stacked = True,\n",
    "figsize=(18,8))\n",
    "\n",
    "plt.title('BMI categories')"
   ]
  },
  {
   "cell_type": "markdown",
   "id": "50d4f015",
   "metadata": {},
   "source": [
    "# Question 2: Which type of IBD tends to have sufferers of a higher BMI?\n"
   ]
  },
  {
   "cell_type": "code",
   "execution_count": 9,
   "id": "17b977e9",
   "metadata": {
    "ExecuteTime": {
     "end_time": "2022-03-30T07:22:21.324597Z",
     "start_time": "2022-03-30T07:22:21.220092Z"
    }
   },
   "outputs": [
    {
     "data": {
      "text/plain": [
       "<AxesSubplot:xlabel='diagnosis', ylabel='bmi'>"
      ]
     },
     "execution_count": 9,
     "metadata": {},
     "output_type": "execute_result"
    },
    {
     "data": {
      "image/png": "[encoded data removed]",
      "text/plain": [
       "<Figure size 432x288 with 1 Axes>"
      ]
     },
     "metadata": {
      "needs_background": "light"
     },
     "output_type": "display_data"
    }
   ],
   "source": [
    "sns.boxenplot(data=data, x='diagnosis', y='bmi')"
   ]
  },
  {
   "cell_type": "code",
   "execution_count": 10,
   "id": "b73ae75e",
   "metadata": {
    "ExecuteTime": {
     "end_time": "2022-03-30T07:22:21.342898Z",
     "start_time": "2022-03-30T07:22:21.327417Z"
    }
   },
   "outputs": [
    {
     "data": {
      "text/html": [
       "<div>\n",
       "<style scoped>\n",
       "    .dataframe tbody tr th:only-of-type {\n",
       "        vertical-align: middle;\n",
       "    }\n",
       "\n",
       "    .dataframe tbody tr th {\n",
       "        vertical-align: top;\n",
       "    }\n",
       "\n",
       "    .dataframe thead th {\n",
       "        text-align: right;\n",
       "    }\n",
       "</style>\n",
       "<table border=\"1\" class=\"dataframe\">\n",
       "  <thead>\n",
       "    <tr style=\"text-align: right;\">\n",
       "      <th></th>\n",
       "      <th>diagnosis</th>\n",
       "      <th>count</th>\n",
       "      <th>min_v</th>\n",
       "      <th>mean_v</th>\n",
       "      <th>median_v</th>\n",
       "      <th>max_v</th>\n",
       "    </tr>\n",
       "  </thead>\n",
       "  <tbody>\n",
       "    <tr>\n",
       "      <th>0</th>\n",
       "      <td>1</td>\n",
       "      <td>9727</td>\n",
       "      <td>4.5</td>\n",
       "      <td>26.357746</td>\n",
       "      <td>25.3</td>\n",
       "      <td>269.1</td>\n",
       "    </tr>\n",
       "    <tr>\n",
       "      <th>1</th>\n",
       "      <td>2</td>\n",
       "      <td>9807</td>\n",
       "      <td>4.8</td>\n",
       "      <td>26.795330</td>\n",
       "      <td>25.9</td>\n",
       "      <td>83.2</td>\n",
       "    </tr>\n",
       "    <tr>\n",
       "      <th>2</th>\n",
       "      <td>3</td>\n",
       "      <td>641</td>\n",
       "      <td>14.6</td>\n",
       "      <td>26.558190</td>\n",
       "      <td>25.7</td>\n",
       "      <td>68.6</td>\n",
       "    </tr>\n",
       "    <tr>\n",
       "      <th>3</th>\n",
       "      <td>4</td>\n",
       "      <td>49</td>\n",
       "      <td>19.2</td>\n",
       "      <td>26.877551</td>\n",
       "      <td>24.9</td>\n",
       "      <td>59.0</td>\n",
       "    </tr>\n",
       "  </tbody>\n",
       "</table>\n",
       "</div>"
      ],
      "text/plain": [
       "   diagnosis  count  min_v     mean_v  median_v  max_v\n",
       "0          1   9727    4.5  26.357746      25.3  269.1\n",
       "1          2   9807    4.8  26.795330      25.9   83.2\n",
       "2          3    641   14.6  26.558190      25.7   68.6\n",
       "3          4     49   19.2  26.877551      24.9   59.0"
      ]
     },
     "execution_count": 10,
     "metadata": {},
     "output_type": "execute_result"
    }
   ],
   "source": [
    "data_q2 = data[['diagnosis', 'bmi']].groupby('diagnosis').agg(['count', 'min', 'mean', 'median', 'max'])\n",
    "data_q2.columns = ['count', 'min_v', 'mean_v', 'median_v', 'max_v']\n",
    "data_q2.reset_index(inplace=True)\n",
    "data_q2.diagnosis = data_q2.diagnosis.astype(int)\n",
    "data_q2.head()"
   ]
  },
  {
   "cell_type": "code",
   "execution_count": 11,
   "id": "d256fabb",
   "metadata": {
    "ExecuteTime": {
     "end_time": "2022-03-30T07:22:21.468804Z",
     "start_time": "2022-03-30T07:22:21.345668Z"
    }
   },
   "outputs": [
    {
     "data": {
      "text/plain": [
       "Text(0, 0.5, 'BMI')"
      ]
     },
     "execution_count": 11,
     "metadata": {},
     "output_type": "execute_result"
    },
    {
     "data": {
      "image/png": "[encoded data removed]",
      "text/plain": [
       "<Figure size 432x288 with 1 Axes>"
      ]
     },
     "metadata": {
      "needs_background": "light"
     },
     "output_type": "display_data"
    }
   ],
   "source": [
    "#sns.lineplot(data=data_q2, x='diagnosis', y='min_v')\n",
    "sns.lineplot(data=data_q2, x='diagnosis', y='mean_v', label='mean')\n",
    "sns.lineplot(data=data_q2, x='diagnosis', y='median_v', label='median')\n",
    "#sns.lineplot(data=data_q2, x='diagnosis', y='max_v')\n",
    "plt.legend()\n",
    "plt.ylabel('BMI')"
   ]
  },
  {
   "cell_type": "markdown",
   "id": "d21c26c8",
   "metadata": {},
   "source": [
    "# Question 3: Which type of IBD has more sufferers that smoke or previously smoked?\n"
   ]
  },
  {
   "cell_type": "code",
   "execution_count": 12,
   "id": "5503435f",
   "metadata": {
    "ExecuteTime": {
     "end_time": "2022-03-30T07:22:21.488632Z",
     "start_time": "2022-03-30T07:22:21.471467Z"
    }
   },
   "outputs": [
    {
     "data": {
      "text/html": [
       "<div>\n",
       "<style scoped>\n",
       "    .dataframe tbody tr th:only-of-type {\n",
       "        vertical-align: middle;\n",
       "    }\n",
       "\n",
       "    .dataframe tbody tr th {\n",
       "        vertical-align: top;\n",
       "    }\n",
       "\n",
       "    .dataframe thead th {\n",
       "        text-align: right;\n",
       "    }\n",
       "</style>\n",
       "<table border=\"1\" class=\"dataframe\">\n",
       "  <thead>\n",
       "    <tr style=\"text-align: right;\">\n",
       "      <th></th>\n",
       "      <th>diagnosis</th>\n",
       "      <th>smoker</th>\n",
       "      <th>past_smoker</th>\n",
       "      <th>smoker_or_past</th>\n",
       "    </tr>\n",
       "  </thead>\n",
       "  <tbody>\n",
       "    <tr>\n",
       "      <th>0</th>\n",
       "      <td>2.0</td>\n",
       "      <td>False</td>\n",
       "      <td>True</td>\n",
       "      <td>True</td>\n",
       "    </tr>\n",
       "    <tr>\n",
       "      <th>1</th>\n",
       "      <td>1.0</td>\n",
       "      <td>False</td>\n",
       "      <td>True</td>\n",
       "      <td>True</td>\n",
       "    </tr>\n",
       "    <tr>\n",
       "      <th>2</th>\n",
       "      <td>2.0</td>\n",
       "      <td>False</td>\n",
       "      <td>True</td>\n",
       "      <td>True</td>\n",
       "    </tr>\n",
       "    <tr>\n",
       "      <th>3</th>\n",
       "      <td>1.0</td>\n",
       "      <td>False</td>\n",
       "      <td>False</td>\n",
       "      <td>False</td>\n",
       "    </tr>\n",
       "    <tr>\n",
       "      <th>4</th>\n",
       "      <td>2.0</td>\n",
       "      <td>False</td>\n",
       "      <td>False</td>\n",
       "      <td>False</td>\n",
       "    </tr>\n",
       "  </tbody>\n",
       "</table>\n",
       "</div>"
      ],
      "text/plain": [
       "   diagnosis  smoker  past_smoker  smoker_or_past\n",
       "0        2.0   False         True            True\n",
       "1        1.0   False         True            True\n",
       "2        2.0   False         True            True\n",
       "3        1.0   False        False           False\n",
       "4        2.0   False        False           False"
      ]
     },
     "execution_count": 12,
     "metadata": {},
     "output_type": "execute_result"
    }
   ],
   "source": [
    "data_q3 = data[['diagnosis', 'smoker', 'past_smoker']].copy()\n",
    "data_q3.smoker = data_q3.smoker == 'Yes'\n",
    "data_q3.past_smoker = data_q3.past_smoker == 'Yes'\n",
    "data_q3['smoker_or_past'] = np.logical_or(data_q3.smoker, data_q3.past_smoker)\n",
    "data_q3.head()"
   ]
  },
  {
   "cell_type": "code",
   "execution_count": 13,
   "id": "57e37a4e",
   "metadata": {
    "ExecuteTime": {
     "end_time": "2022-03-30T07:22:21.504509Z",
     "start_time": "2022-03-30T07:22:21.491186Z"
    }
   },
   "outputs": [
    {
     "data": {
      "text/html": [
       "<div>\n",
       "<style scoped>\n",
       "    .dataframe tbody tr th:only-of-type {\n",
       "        vertical-align: middle;\n",
       "    }\n",
       "\n",
       "    .dataframe tbody tr th {\n",
       "        vertical-align: top;\n",
       "    }\n",
       "\n",
       "    .dataframe thead th {\n",
       "        text-align: right;\n",
       "    }\n",
       "</style>\n",
       "<table border=\"1\" class=\"dataframe\">\n",
       "  <thead>\n",
       "    <tr style=\"text-align: right;\">\n",
       "      <th></th>\n",
       "      <th>diagnosis</th>\n",
       "      <th>count_v</th>\n",
       "      <th>mean_v</th>\n",
       "      <th>median_v</th>\n",
       "    </tr>\n",
       "  </thead>\n",
       "  <tbody>\n",
       "    <tr>\n",
       "      <th>0</th>\n",
       "      <td>1.0</td>\n",
       "      <td>16418</td>\n",
       "      <td>0.347058</td>\n",
       "      <td>0.0</td>\n",
       "    </tr>\n",
       "    <tr>\n",
       "      <th>1</th>\n",
       "      <td>2.0</td>\n",
       "      <td>15777</td>\n",
       "      <td>0.359637</td>\n",
       "      <td>0.0</td>\n",
       "    </tr>\n",
       "    <tr>\n",
       "      <th>2</th>\n",
       "      <td>3.0</td>\n",
       "      <td>991</td>\n",
       "      <td>0.355197</td>\n",
       "      <td>0.0</td>\n",
       "    </tr>\n",
       "    <tr>\n",
       "      <th>3</th>\n",
       "      <td>4.0</td>\n",
       "      <td>78</td>\n",
       "      <td>0.397436</td>\n",
       "      <td>0.0</td>\n",
       "    </tr>\n",
       "  </tbody>\n",
       "</table>\n",
       "</div>"
      ],
      "text/plain": [
       "   diagnosis  count_v    mean_v  median_v\n",
       "0        1.0    16418  0.347058       0.0\n",
       "1        2.0    15777  0.359637       0.0\n",
       "2        3.0      991  0.355197       0.0\n",
       "3        4.0       78  0.397436       0.0"
      ]
     },
     "execution_count": 13,
     "metadata": {},
     "output_type": "execute_result"
    }
   ],
   "source": [
    "data_q3 = data_q3[['diagnosis', 'smoker_or_past']].groupby('diagnosis').agg(['count', 'mean', 'median'])\n",
    "data_q3.columns = ['count_v', 'mean_v', 'median_v']\n",
    "data_q3.reset_index(inplace=True)\n",
    "data_q3.head()"
   ]
  },
  {
   "cell_type": "code",
   "execution_count": 14,
   "id": "1e70a638",
   "metadata": {
    "ExecuteTime": {
     "end_time": "2022-03-30T07:22:21.616748Z",
     "start_time": "2022-03-30T07:22:21.505990Z"
    }
   },
   "outputs": [
    {
     "data": {
      "text/plain": [
       "Text(0, 0.5, 'smoke %')"
      ]
     },
     "execution_count": 14,
     "metadata": {},
     "output_type": "execute_result"
    },
    {
     "data": {
      "image/png": "[encoded data removed]",
      "text/plain": [
       "<Figure size 432x288 with 1 Axes>"
      ]
     },
     "metadata": {
      "needs_background": "light"
     },
     "output_type": "display_data"
    }
   ],
   "source": [
    "sns.lineplot(data=data_q3, x='diagnosis', y='mean_v', label='mean')\n",
    "plt.ylabel('smoke %')"
   ]
  },
  {
   "cell_type": "markdown",
   "id": "f1dd4439",
   "metadata": {},
   "source": [
    "# Question 4: Which type of IBD has more cancer sufferers?\n"
   ]
  },
  {
   "cell_type": "code",
   "execution_count": 15,
   "id": "2ef08ced",
   "metadata": {
    "ExecuteTime": {
     "end_time": "2022-03-30T07:22:21.626797Z",
     "start_time": "2022-03-30T07:22:21.618182Z"
    }
   },
   "outputs": [
    {
     "data": {
      "text/html": [
       "<div>\n",
       "<style scoped>\n",
       "    .dataframe tbody tr th:only-of-type {\n",
       "        vertical-align: middle;\n",
       "    }\n",
       "\n",
       "    .dataframe tbody tr th {\n",
       "        vertical-align: top;\n",
       "    }\n",
       "\n",
       "    .dataframe thead th {\n",
       "        text-align: right;\n",
       "    }\n",
       "</style>\n",
       "<table border=\"1\" class=\"dataframe\">\n",
       "  <thead>\n",
       "    <tr style=\"text-align: right;\">\n",
       "      <th></th>\n",
       "      <th>diagnosis</th>\n",
       "      <th>cancer</th>\n",
       "    </tr>\n",
       "  </thead>\n",
       "  <tbody>\n",
       "    <tr>\n",
       "      <th>0</th>\n",
       "      <td>2.0</td>\n",
       "      <td>False</td>\n",
       "    </tr>\n",
       "    <tr>\n",
       "      <th>1</th>\n",
       "      <td>1.0</td>\n",
       "      <td>False</td>\n",
       "    </tr>\n",
       "    <tr>\n",
       "      <th>2</th>\n",
       "      <td>2.0</td>\n",
       "      <td>False</td>\n",
       "    </tr>\n",
       "    <tr>\n",
       "      <th>3</th>\n",
       "      <td>1.0</td>\n",
       "      <td>False</td>\n",
       "    </tr>\n",
       "    <tr>\n",
       "      <th>4</th>\n",
       "      <td>2.0</td>\n",
       "      <td>False</td>\n",
       "    </tr>\n",
       "  </tbody>\n",
       "</table>\n",
       "</div>"
      ],
      "text/plain": [
       "   diagnosis  cancer\n",
       "0        2.0   False\n",
       "1        1.0   False\n",
       "2        2.0   False\n",
       "3        1.0   False\n",
       "4        2.0   False"
      ]
     },
     "execution_count": 15,
     "metadata": {},
     "output_type": "execute_result"
    }
   ],
   "source": [
    "data_q4 = data[['diagnosis', 'cancer']].copy()\n",
    "data_q4.cancer = data_q4.cancer == 'Yes'\n",
    "data_q4.head()"
   ]
  },
  {
   "cell_type": "code",
   "execution_count": 16,
   "id": "397a9623",
   "metadata": {
    "ExecuteTime": {
     "end_time": "2022-03-30T07:22:21.646852Z",
     "start_time": "2022-03-30T07:22:21.629084Z"
    }
   },
   "outputs": [
    {
     "data": {
      "text/html": [
       "<div>\n",
       "<style scoped>\n",
       "    .dataframe tbody tr th:only-of-type {\n",
       "        vertical-align: middle;\n",
       "    }\n",
       "\n",
       "    .dataframe tbody tr th {\n",
       "        vertical-align: top;\n",
       "    }\n",
       "\n",
       "    .dataframe thead th {\n",
       "        text-align: right;\n",
       "    }\n",
       "</style>\n",
       "<table border=\"1\" class=\"dataframe\">\n",
       "  <thead>\n",
       "    <tr style=\"text-align: right;\">\n",
       "      <th></th>\n",
       "      <th>diagnosis</th>\n",
       "      <th>mean_v</th>\n",
       "      <th>median_v</th>\n",
       "    </tr>\n",
       "  </thead>\n",
       "  <tbody>\n",
       "    <tr>\n",
       "      <th>0</th>\n",
       "      <td>1.0</td>\n",
       "      <td>0.040322</td>\n",
       "      <td>0.0</td>\n",
       "    </tr>\n",
       "    <tr>\n",
       "      <th>1</th>\n",
       "      <td>2.0</td>\n",
       "      <td>0.047854</td>\n",
       "      <td>0.0</td>\n",
       "    </tr>\n",
       "    <tr>\n",
       "      <th>2</th>\n",
       "      <td>3.0</td>\n",
       "      <td>0.053481</td>\n",
       "      <td>0.0</td>\n",
       "    </tr>\n",
       "    <tr>\n",
       "      <th>3</th>\n",
       "      <td>4.0</td>\n",
       "      <td>0.012821</td>\n",
       "      <td>0.0</td>\n",
       "    </tr>\n",
       "  </tbody>\n",
       "</table>\n",
       "</div>"
      ],
      "text/plain": [
       "   diagnosis    mean_v  median_v\n",
       "0        1.0  0.040322       0.0\n",
       "1        2.0  0.047854       0.0\n",
       "2        3.0  0.053481       0.0\n",
       "3        4.0  0.012821       0.0"
      ]
     },
     "execution_count": 16,
     "metadata": {},
     "output_type": "execute_result"
    }
   ],
   "source": [
    "data_q4 = data_q4.groupby('diagnosis').agg(['mean', 'median'])\n",
    "data_q4.columns = ['mean_v', 'median_v']\n",
    "data_q4.reset_index(inplace=True)\n",
    "data_q4.head()"
   ]
  },
  {
   "cell_type": "code",
   "execution_count": 17,
   "id": "304eb050",
   "metadata": {
    "ExecuteTime": {
     "end_time": "2022-03-30T07:22:21.772519Z",
     "start_time": "2022-03-30T07:22:21.649490Z"
    }
   },
   "outputs": [
    {
     "data": {
      "text/plain": [
       "Text(0, 0.5, 'cancer %')"
      ]
     },
     "execution_count": 17,
     "metadata": {},
     "output_type": "execute_result"
    },
    {
     "data": {
      "image/png": "[encoded data removed]",
      "text/plain": [
       "<Figure size 432x288 with 1 Axes>"
      ]
     },
     "metadata": {
      "needs_background": "light"
     },
     "output_type": "display_data"
    }
   ],
   "source": [
    "sns.lineplot(data=data_q4, x='diagnosis', y='mean_v', label='mean')\n",
    "plt.ylabel('cancer %')"
   ]
  },
  {
   "cell_type": "markdown",
   "id": "27875336",
   "metadata": {},
   "source": [
    "# Question 5: Which type of IBD has more heart disease sufferers?\n"
   ]
  },
  {
   "cell_type": "code",
   "execution_count": 18,
   "id": "be04c826",
   "metadata": {
    "ExecuteTime": {
     "end_time": "2022-03-30T07:22:21.783748Z",
     "start_time": "2022-03-30T07:22:21.774235Z"
    }
   },
   "outputs": [
    {
     "data": {
      "text/html": [
       "<div>\n",
       "<style scoped>\n",
       "    .dataframe tbody tr th:only-of-type {\n",
       "        vertical-align: middle;\n",
       "    }\n",
       "\n",
       "    .dataframe tbody tr th {\n",
       "        vertical-align: top;\n",
       "    }\n",
       "\n",
       "    .dataframe thead th {\n",
       "        text-align: right;\n",
       "    }\n",
       "</style>\n",
       "<table border=\"1\" class=\"dataframe\">\n",
       "  <thead>\n",
       "    <tr style=\"text-align: right;\">\n",
       "      <th></th>\n",
       "      <th>diagnosis</th>\n",
       "      <th>heart_disease</th>\n",
       "    </tr>\n",
       "  </thead>\n",
       "  <tbody>\n",
       "    <tr>\n",
       "      <th>0</th>\n",
       "      <td>2.0</td>\n",
       "      <td>False</td>\n",
       "    </tr>\n",
       "    <tr>\n",
       "      <th>1</th>\n",
       "      <td>1.0</td>\n",
       "      <td>False</td>\n",
       "    </tr>\n",
       "    <tr>\n",
       "      <th>2</th>\n",
       "      <td>2.0</td>\n",
       "      <td>False</td>\n",
       "    </tr>\n",
       "    <tr>\n",
       "      <th>3</th>\n",
       "      <td>1.0</td>\n",
       "      <td>False</td>\n",
       "    </tr>\n",
       "    <tr>\n",
       "      <th>4</th>\n",
       "      <td>2.0</td>\n",
       "      <td>False</td>\n",
       "    </tr>\n",
       "  </tbody>\n",
       "</table>\n",
       "</div>"
      ],
      "text/plain": [
       "   diagnosis  heart_disease\n",
       "0        2.0          False\n",
       "1        1.0          False\n",
       "2        2.0          False\n",
       "3        1.0          False\n",
       "4        2.0          False"
      ]
     },
     "execution_count": 18,
     "metadata": {},
     "output_type": "execute_result"
    }
   ],
   "source": [
    "data_q5 = data[['diagnosis', 'heart_disease']].copy()\n",
    "data_q5.heart_disease = data_q5.heart_disease == 'Yes'\n",
    "data_q5.head()"
   ]
  },
  {
   "cell_type": "code",
   "execution_count": 19,
   "id": "365c9b8f",
   "metadata": {
    "ExecuteTime": {
     "end_time": "2022-03-30T07:22:21.797035Z",
     "start_time": "2022-03-30T07:22:21.785866Z"
    }
   },
   "outputs": [
    {
     "data": {
      "text/html": [
       "<div>\n",
       "<style scoped>\n",
       "    .dataframe tbody tr th:only-of-type {\n",
       "        vertical-align: middle;\n",
       "    }\n",
       "\n",
       "    .dataframe tbody tr th {\n",
       "        vertical-align: top;\n",
       "    }\n",
       "\n",
       "    .dataframe thead th {\n",
       "        text-align: right;\n",
       "    }\n",
       "</style>\n",
       "<table border=\"1\" class=\"dataframe\">\n",
       "  <thead>\n",
       "    <tr style=\"text-align: right;\">\n",
       "      <th></th>\n",
       "      <th>diagnosis</th>\n",
       "      <th>mean_v</th>\n",
       "      <th>median_v</th>\n",
       "    </tr>\n",
       "  </thead>\n",
       "  <tbody>\n",
       "    <tr>\n",
       "      <th>0</th>\n",
       "      <td>1.0</td>\n",
       "      <td>0.032647</td>\n",
       "      <td>0.0</td>\n",
       "    </tr>\n",
       "    <tr>\n",
       "      <th>1</th>\n",
       "      <td>2.0</td>\n",
       "      <td>0.050010</td>\n",
       "      <td>0.0</td>\n",
       "    </tr>\n",
       "    <tr>\n",
       "      <th>2</th>\n",
       "      <td>3.0</td>\n",
       "      <td>0.039354</td>\n",
       "      <td>0.0</td>\n",
       "    </tr>\n",
       "    <tr>\n",
       "      <th>3</th>\n",
       "      <td>4.0</td>\n",
       "      <td>0.025641</td>\n",
       "      <td>0.0</td>\n",
       "    </tr>\n",
       "  </tbody>\n",
       "</table>\n",
       "</div>"
      ],
      "text/plain": [
       "   diagnosis    mean_v  median_v\n",
       "0        1.0  0.032647       0.0\n",
       "1        2.0  0.050010       0.0\n",
       "2        3.0  0.039354       0.0\n",
       "3        4.0  0.025641       0.0"
      ]
     },
     "execution_count": 19,
     "metadata": {},
     "output_type": "execute_result"
    }
   ],
   "source": [
    "data_q5 = data_q5.groupby('diagnosis').agg(['mean', 'median'])\n",
    "data_q5.columns = ['mean_v', 'median_v']\n",
    "data_q5.reset_index(inplace=True)\n",
    "data_q5.head()"
   ]
  },
  {
   "cell_type": "code",
   "execution_count": 20,
   "id": "ba246ed7",
   "metadata": {
    "ExecuteTime": {
     "end_time": "2022-03-30T07:22:21.912740Z",
     "start_time": "2022-03-30T07:22:21.799190Z"
    }
   },
   "outputs": [
    {
     "data": {
      "text/plain": [
       "Text(0, 0.5, 'heart disease %')"
      ]
     },
     "execution_count": 20,
     "metadata": {},
     "output_type": "execute_result"
    },
    {
     "data": {
      "image/png": "[encoded data removed]",
      "text/plain": [
       "<Figure size 432x288 with 1 Axes>"
      ]
     },
     "metadata": {
      "needs_background": "light"
     },
     "output_type": "display_data"
    }
   ],
   "source": [
    "sns.lineplot(data=data_q4, x='diagnosis', y='mean_v', label='mean')\n",
    "plt.ylabel('heart disease %')"
   ]
  },
  {
   "cell_type": "markdown",
   "id": "ab57b296",
   "metadata": {},
   "source": [
    "# Question 6: Which age group is most affected by Ulcerative colitis (diagnosis type 2 in the dataset)?\n",
    "## (comparing male and female)"
   ]
  },
  {
   "cell_type": "code",
   "execution_count": 21,
   "id": "0bb60718",
   "metadata": {
    "ExecuteTime": {
     "end_time": "2022-03-30T07:22:21.934993Z",
     "start_time": "2022-03-30T07:22:21.915031Z"
    }
   },
   "outputs": [
    {
     "data": {
      "text/html": [
       "<div>\n",
       "<style scoped>\n",
       "    .dataframe tbody tr th:only-of-type {\n",
       "        vertical-align: middle;\n",
       "    }\n",
       "\n",
       "    .dataframe tbody tr th {\n",
       "        vertical-align: top;\n",
       "    }\n",
       "\n",
       "    .dataframe thead th {\n",
       "        text-align: right;\n",
       "    }\n",
       "</style>\n",
       "<table border=\"1\" class=\"dataframe\">\n",
       "  <thead>\n",
       "    <tr style=\"text-align: right;\">\n",
       "      <th></th>\n",
       "      <th>age_band_jan1</th>\n",
       "      <th>gender</th>\n",
       "      <th>n_patient</th>\n",
       "    </tr>\n",
       "  </thead>\n",
       "  <tbody>\n",
       "    <tr>\n",
       "      <th>0</th>\n",
       "      <td>15-19</td>\n",
       "      <td>1.0</td>\n",
       "      <td>41</td>\n",
       "    </tr>\n",
       "    <tr>\n",
       "      <th>1</th>\n",
       "      <td>15-19</td>\n",
       "      <td>2.0</td>\n",
       "      <td>37</td>\n",
       "    </tr>\n",
       "    <tr>\n",
       "      <th>2</th>\n",
       "      <td>20-24</td>\n",
       "      <td>1.0</td>\n",
       "      <td>341</td>\n",
       "    </tr>\n",
       "    <tr>\n",
       "      <th>3</th>\n",
       "      <td>20-24</td>\n",
       "      <td>2.0</td>\n",
       "      <td>325</td>\n",
       "    </tr>\n",
       "    <tr>\n",
       "      <th>4</th>\n",
       "      <td>25-29</td>\n",
       "      <td>1.0</td>\n",
       "      <td>515</td>\n",
       "    </tr>\n",
       "  </tbody>\n",
       "</table>\n",
       "</div>"
      ],
      "text/plain": [
       "  age_band_jan1  gender  n_patient\n",
       "0         15-19     1.0         41\n",
       "1         15-19     2.0         37\n",
       "2         20-24     1.0        341\n",
       "3         20-24     2.0        325\n",
       "4         25-29     1.0        515"
      ]
     },
     "execution_count": 21,
     "metadata": {},
     "output_type": "execute_result"
    }
   ],
   "source": [
    "data_q6 = data[['gender', 'diagnosis', 'age_band_jan1']].copy()\n",
    "data_q6 = data_q6[data_q6.diagnosis == 2]\n",
    "data_q6 = data_q6.groupby(['age_band_jan1', 'gender']).count().reset_index()\n",
    "data_q6.columns = [*data_q6.columns[:-1], 'n_patient']\n",
    "data_q6.head()"
   ]
  },
  {
   "cell_type": "code",
   "execution_count": 22,
   "id": "e63b0f0b",
   "metadata": {
    "ExecuteTime": {
     "end_time": "2022-03-30T07:22:22.311600Z",
     "start_time": "2022-03-30T07:22:21.937402Z"
    }
   },
   "outputs": [
    {
     "data": {
      "text/plain": [
       "<AxesSubplot:xlabel='age_band_jan1', ylabel='n_patient'>"
      ]
     },
     "execution_count": 22,
     "metadata": {},
     "output_type": "execute_result"
    },
    {
     "data": {
      "image/png": "[encoded data removed]",
      "text/plain": [
       "<Figure size 432x288 with 1 Axes>"
      ]
     },
     "metadata": {
      "needs_background": "light"
     },
     "output_type": "display_data"
    }
   ],
   "source": [
    "sns.lineplot(data=data_q6, x='age_band_jan1', y='n_patient', hue='gender', palette='Set2')\n",
    "sns.stripplot(data=data_q6, x='age_band_jan1', y='n_patient', hue='gender', jitter=False, palette='Set2')"
   ]
  },
  {
   "cell_type": "code",
   "execution_count": null,
   "id": "b6edc6fe",
   "metadata": {},
   "outputs": [],
   "source": []
  }
 ],
 "metadata": {
  "kernelspec": {
   "display_name": "Python 3 (ipykernel)",
   "language": "python",
   "name": "python3"
  },
  "language_info": {
   "codemirror_mode": {
    "name": "ipython",
    "version": 3
   },
   "file_extension": ".py",
   "mimetype": "text/x-python",
   "name": "python",
   "nbconvert_exporter": "python",
   "pygments_lexer": "ipython3",
   "version": "3.9.7"
  },
  "toc": {
   "base_numbering": 1,
   "nav_menu": {},
   "number_sections": true,
   "sideBar": true,
   "skip_h1_title": false,
   "title_cell": "Table of Contents",
   "title_sidebar": "Contents",
   "toc_cell": false,
   "toc_position": {},
   "toc_section_display": true,
   "toc_window_display": false
  },
  "varInspector": {
   "cols": {
    "lenName": 16,
    "lenType": 16,
    "lenVar": 40
   },
   "kernels_config": {
    "python": {
     "delete_cmd_postfix": "",
     "delete_cmd_prefix": "del ",
     "library": "var_list.py",
     "varRefreshCmd": "print(var_dic_list())"
    },
    "r": {
     "delete_cmd_postfix": ") ",
     "delete_cmd_prefix": "rm(",
     "library": "var_list.r",
     "varRefreshCmd": "cat(var_dic_list()) "
    }
   },
   "position": {
    "height": "694.844px",
    "left": "1550px",
    "right": "20px",
    "top": "120px",
    "width": "350px"
   },
   "types_to_exclude": [
    "module",
    "function",
    "builtin_function_or_method",
    "instance",
    "_Feature"
   ],
   "window_display": true
  }
 },
 "nbformat": 4,
 "nbformat_minor": 5
}
