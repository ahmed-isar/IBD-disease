{
 "cells": [
  {
   "cell_type": "code",
   "execution_count": 72,
   "id": "722625e2",
   "metadata": {
    "ExecuteTime": {
     "end_time": "2022-03-23T07:50:29.190168Z",
     "start_time": "2022-03-23T07:50:29.184552Z"
    }
   },
   "outputs": [],
   "source": [
    "import numpy as np\n",
    "import pandas as pd\n",
    "import matplotlib.pyplot as plt\n",
    "import seaborn as sns"
   ]
  },
  {
   "cell_type": "code",
   "execution_count": 73,
   "id": "61f291d8",
   "metadata": {
    "ExecuteTime": {
     "end_time": "2022-03-23T07:50:29.248681Z",
     "start_time": "2022-03-23T07:50:29.193488Z"
    }
   },
   "outputs": [
    {
     "name": "stdout",
     "output_type": "stream",
     "text": [
      "<class 'pandas.core.frame.DataFrame'>\n",
      "RangeIndex: 33699 entries, 0 to 33698\n",
      "Data columns (total 11 columns):\n",
      " #   Column           Non-Null Count  Dtype  \n",
      "---  ------           --------------  -----  \n",
      " 0   pt_ID            33699 non-null  int64  \n",
      " 1   gender           33694 non-null  float64\n",
      " 2   diagnosis        33264 non-null  float64\n",
      " 3   hosp_admin       32573 non-null  float64\n",
      " 4   age_band_jan1    33265 non-null  object \n",
      " 5   bmi              20403 non-null  float64\n",
      " 6   smoker           22210 non-null  object \n",
      " 7   past_smoker      19072 non-null  object \n",
      " 8   diet_preference  22159 non-null  object \n",
      " 9   cancer           1481 non-null   object \n",
      " 10  heart_disease    1378 non-null   object \n",
      "dtypes: float64(4), int64(1), object(6)\n",
      "memory usage: 2.8+ MB\n",
      "None\n"
     ]
    },
    {
     "data": {
      "text/html": [
       "<div>\n",
       "<style scoped>\n",
       "    .dataframe tbody tr th:only-of-type {\n",
       "        vertical-align: middle;\n",
       "    }\n",
       "\n",
       "    .dataframe tbody tr th {\n",
       "        vertical-align: top;\n",
       "    }\n",
       "\n",
       "    .dataframe thead th {\n",
       "        text-align: right;\n",
       "    }\n",
       "</style>\n",
       "<table border=\"1\" class=\"dataframe\">\n",
       "  <thead>\n",
       "    <tr style=\"text-align: right;\">\n",
       "      <th></th>\n",
       "      <th>pt_ID</th>\n",
       "      <th>gender</th>\n",
       "      <th>diagnosis</th>\n",
       "      <th>hosp_admin</th>\n",
       "      <th>age_band_jan1</th>\n",
       "      <th>bmi</th>\n",
       "      <th>smoker</th>\n",
       "      <th>past_smoker</th>\n",
       "      <th>diet_preference</th>\n",
       "      <th>cancer</th>\n",
       "      <th>heart_disease</th>\n",
       "    </tr>\n",
       "  </thead>\n",
       "  <tbody>\n",
       "    <tr>\n",
       "      <th>0</th>\n",
       "      <td>0</td>\n",
       "      <td>2.0</td>\n",
       "      <td>2.0</td>\n",
       "      <td>2.0</td>\n",
       "      <td>55-59</td>\n",
       "      <td>25.2</td>\n",
       "      <td>No</td>\n",
       "      <td>Yes</td>\n",
       "      <td>No_pref</td>\n",
       "      <td>NaN</td>\n",
       "      <td>NaN</td>\n",
       "    </tr>\n",
       "    <tr>\n",
       "      <th>1</th>\n",
       "      <td>1</td>\n",
       "      <td>1.0</td>\n",
       "      <td>1.0</td>\n",
       "      <td>2.0</td>\n",
       "      <td>50-54</td>\n",
       "      <td>31.2</td>\n",
       "      <td>No</td>\n",
       "      <td>Yes</td>\n",
       "      <td>No_pref</td>\n",
       "      <td>NaN</td>\n",
       "      <td>NaN</td>\n",
       "    </tr>\n",
       "    <tr>\n",
       "      <th>2</th>\n",
       "      <td>2</td>\n",
       "      <td>1.0</td>\n",
       "      <td>2.0</td>\n",
       "      <td>1.0</td>\n",
       "      <td>30-34</td>\n",
       "      <td>28.4</td>\n",
       "      <td>No</td>\n",
       "      <td>Yes</td>\n",
       "      <td>No_pref</td>\n",
       "      <td>NaN</td>\n",
       "      <td>NaN</td>\n",
       "    </tr>\n",
       "    <tr>\n",
       "      <th>3</th>\n",
       "      <td>3</td>\n",
       "      <td>2.0</td>\n",
       "      <td>1.0</td>\n",
       "      <td>2.0</td>\n",
       "      <td>50-54</td>\n",
       "      <td>NaN</td>\n",
       "      <td>NaN</td>\n",
       "      <td>NaN</td>\n",
       "      <td>NaN</td>\n",
       "      <td>NaN</td>\n",
       "      <td>NaN</td>\n",
       "    </tr>\n",
       "    <tr>\n",
       "      <th>4</th>\n",
       "      <td>4</td>\n",
       "      <td>2.0</td>\n",
       "      <td>2.0</td>\n",
       "      <td>2.0</td>\n",
       "      <td>50-54</td>\n",
       "      <td>28.6</td>\n",
       "      <td>No</td>\n",
       "      <td>No</td>\n",
       "      <td>No_pref</td>\n",
       "      <td>NaN</td>\n",
       "      <td>NaN</td>\n",
       "    </tr>\n",
       "  </tbody>\n",
       "</table>\n",
       "</div>"
      ],
      "text/plain": [
       "   pt_ID  gender  diagnosis  hosp_admin age_band_jan1   bmi smoker  \\\n",
       "0      0     2.0        2.0         2.0         55-59  25.2     No   \n",
       "1      1     1.0        1.0         2.0         50-54  31.2     No   \n",
       "2      2     1.0        2.0         1.0         30-34  28.4     No   \n",
       "3      3     2.0        1.0         2.0         50-54   NaN    NaN   \n",
       "4      4     2.0        2.0         2.0         50-54  28.6     No   \n",
       "\n",
       "  past_smoker diet_preference cancer heart_disease  \n",
       "0         Yes         No_pref    NaN           NaN  \n",
       "1         Yes         No_pref    NaN           NaN  \n",
       "2         Yes         No_pref    NaN           NaN  \n",
       "3         NaN             NaN    NaN           NaN  \n",
       "4          No         No_pref    NaN           NaN  "
      ]
     },
     "execution_count": 73,
     "metadata": {},
     "output_type": "execute_result"
    }
   ],
   "source": [
    "data_path = 'data.csv'\n",
    "data = pd.read_csv(data_path)\n",
    "print(data.info())\n",
    "data.head()"
   ]
  },
  {
   "cell_type": "code",
   "execution_count": 74,
   "id": "0fd584c2",
   "metadata": {
    "ExecuteTime": {
     "end_time": "2022-03-23T07:50:29.260804Z",
     "start_time": "2022-03-23T07:50:29.250376Z"
    }
   },
   "outputs": [],
   "source": [
    "def bmi_to_cat(bmi):\n",
    "    cat = ''\n",
    "    if bmi <= 18.5:\n",
    "        cat = 'underweight'\n",
    "    elif bmi <= 24.9:\n",
    "        cat = 'healthy weight'\n",
    "    elif bmi <= 29.9:\n",
    "        cat = 'overweight'\n",
    "    elif bmi <= 39.9:\n",
    "        cat = 'obese'\n",
    "    else:\n",
    "        cat = 'severely obese'\n",
    "    return cat\n",
    "data['bmi_categories'] = data['bmi'].apply(bmi_to_cat)"
   ]
  },
  {
   "cell_type": "code",
   "execution_count": 75,
   "id": "e670dc91",
   "metadata": {
    "ExecuteTime": {
     "end_time": "2022-03-23T07:50:29.488702Z",
     "start_time": "2022-03-23T07:50:29.262757Z"
    }
   },
   "outputs": [
    {
     "name": "stderr",
     "output_type": "stream",
     "text": [
      "/home/ahmed/miniconda3/envs/base_development/lib/python3.9/site-packages/seaborn/_decorators.py:36: FutureWarning: Pass the following variable as a keyword arg: x. From version 0.12, the only valid positional argument will be `data`, and passing other arguments without an explicit keyword will result in an error or misinterpretation.\n",
      "  warnings.warn(\n"
     ]
    },
    {
     "data": {
      "text/plain": [
       "<AxesSubplot:xlabel='age_band_jan1', ylabel='count'>"
      ]
     },
     "execution_count": 75,
     "metadata": {},
     "output_type": "execute_result"
    },
    {
     "data": {
      "image/png": "[encoded data removed]",
      "text/plain": [
       "<Figure size 432x288 with 1 Axes>"
      ]
     },
     "metadata": {
      "needs_background": "light"
     },
     "output_type": "display_data"
    }
   ],
   "source": [
    "sns.countplot(data.age_band_jan1, hue=data.bmi_categories)"
   ]
  },
  {
   "cell_type": "code",
   "execution_count": 76,
   "id": "6c14f60b",
   "metadata": {
    "ExecuteTime": {
     "end_time": "2022-03-23T07:50:29.506956Z",
     "start_time": "2022-03-23T07:50:29.490705Z"
    }
   },
   "outputs": [
    {
     "data": {
      "text/html": [
       "<div>\n",
       "<style scoped>\n",
       "    .dataframe tbody tr th:only-of-type {\n",
       "        vertical-align: middle;\n",
       "    }\n",
       "\n",
       "    .dataframe tbody tr th {\n",
       "        vertical-align: top;\n",
       "    }\n",
       "\n",
       "    .dataframe thead th {\n",
       "        text-align: right;\n",
       "    }\n",
       "</style>\n",
       "<table border=\"1\" class=\"dataframe\">\n",
       "  <thead>\n",
       "    <tr style=\"text-align: right;\">\n",
       "      <th></th>\n",
       "      <th>age_band_jan1</th>\n",
       "      <th>bmi_categories</th>\n",
       "      <th>count</th>\n",
       "    </tr>\n",
       "  </thead>\n",
       "  <tbody>\n",
       "    <tr>\n",
       "      <th>0</th>\n",
       "      <td>15-19</td>\n",
       "      <td>healthy weight</td>\n",
       "      <td>59</td>\n",
       "    </tr>\n",
       "    <tr>\n",
       "      <th>1</th>\n",
       "      <td>15-19</td>\n",
       "      <td>obese</td>\n",
       "      <td>4</td>\n",
       "    </tr>\n",
       "    <tr>\n",
       "      <th>2</th>\n",
       "      <td>15-19</td>\n",
       "      <td>overweight</td>\n",
       "      <td>14</td>\n",
       "    </tr>\n",
       "    <tr>\n",
       "      <th>3</th>\n",
       "      <td>15-19</td>\n",
       "      <td>severely obese</td>\n",
       "      <td>119</td>\n",
       "    </tr>\n",
       "    <tr>\n",
       "      <th>4</th>\n",
       "      <td>15-19</td>\n",
       "      <td>underweight</td>\n",
       "      <td>18</td>\n",
       "    </tr>\n",
       "  </tbody>\n",
       "</table>\n",
       "</div>"
      ],
      "text/plain": [
       "  age_band_jan1  bmi_categories  count\n",
       "0         15-19  healthy weight     59\n",
       "1         15-19           obese      4\n",
       "2         15-19      overweight     14\n",
       "3         15-19  severely obese    119\n",
       "4         15-19     underweight     18"
      ]
     },
     "execution_count": 76,
     "metadata": {},
     "output_type": "execute_result"
    }
   ],
   "source": [
    "plot_data = data[['pt_ID', 'age_band_jan1', 'bmi_categories']]\\\n",
    ".groupby(['age_band_jan1', 'bmi_categories']).count().reset_index()\n",
    "\n",
    "plot_data.columns = [*plot_data.columns[:-1], 'count']\n",
    "plot_data.head()"
   ]
  },
  {
   "cell_type": "code",
   "execution_count": 77,
   "id": "cd268624",
   "metadata": {
    "ExecuteTime": {
     "end_time": "2022-03-23T07:50:29.529083Z",
     "start_time": "2022-03-23T07:50:29.509075Z"
    }
   },
   "outputs": [
    {
     "data": {
      "text/html": [
       "<div>\n",
       "<style scoped>\n",
       "    .dataframe tbody tr th:only-of-type {\n",
       "        vertical-align: middle;\n",
       "    }\n",
       "\n",
       "    .dataframe tbody tr th {\n",
       "        vertical-align: top;\n",
       "    }\n",
       "\n",
       "    .dataframe thead th {\n",
       "        text-align: right;\n",
       "    }\n",
       "</style>\n",
       "<table border=\"1\" class=\"dataframe\">\n",
       "  <thead>\n",
       "    <tr style=\"text-align: right;\">\n",
       "      <th>bmi_categories</th>\n",
       "      <th>age_band_jan1</th>\n",
       "      <th>healthy weight</th>\n",
       "      <th>obese</th>\n",
       "      <th>overweight</th>\n",
       "      <th>severely obese</th>\n",
       "      <th>underweight</th>\n",
       "    </tr>\n",
       "  </thead>\n",
       "  <tbody>\n",
       "    <tr>\n",
       "      <th>0</th>\n",
       "      <td>15-19</td>\n",
       "      <td>59</td>\n",
       "      <td>4</td>\n",
       "      <td>14</td>\n",
       "      <td>119</td>\n",
       "      <td>18</td>\n",
       "    </tr>\n",
       "    <tr>\n",
       "      <th>1</th>\n",
       "      <td>20-24</td>\n",
       "      <td>586</td>\n",
       "      <td>66</td>\n",
       "      <td>159</td>\n",
       "      <td>844</td>\n",
       "      <td>78</td>\n",
       "    </tr>\n",
       "    <tr>\n",
       "      <th>2</th>\n",
       "      <td>25-29</td>\n",
       "      <td>839</td>\n",
       "      <td>168</td>\n",
       "      <td>367</td>\n",
       "      <td>1400</td>\n",
       "      <td>74</td>\n",
       "    </tr>\n",
       "    <tr>\n",
       "      <th>3</th>\n",
       "      <td>30-34</td>\n",
       "      <td>920</td>\n",
       "      <td>259</td>\n",
       "      <td>480</td>\n",
       "      <td>1509</td>\n",
       "      <td>57</td>\n",
       "    </tr>\n",
       "    <tr>\n",
       "      <th>4</th>\n",
       "      <td>35-39</td>\n",
       "      <td>840</td>\n",
       "      <td>308</td>\n",
       "      <td>579</td>\n",
       "      <td>1556</td>\n",
       "      <td>49</td>\n",
       "    </tr>\n",
       "    <tr>\n",
       "      <th>5</th>\n",
       "      <td>40-44</td>\n",
       "      <td>802</td>\n",
       "      <td>320</td>\n",
       "      <td>566</td>\n",
       "      <td>1338</td>\n",
       "      <td>35</td>\n",
       "    </tr>\n",
       "    <tr>\n",
       "      <th>6</th>\n",
       "      <td>45-49</td>\n",
       "      <td>695</td>\n",
       "      <td>407</td>\n",
       "      <td>638</td>\n",
       "      <td>1272</td>\n",
       "      <td>30</td>\n",
       "    </tr>\n",
       "    <tr>\n",
       "      <th>7</th>\n",
       "      <td>50-54</td>\n",
       "      <td>677</td>\n",
       "      <td>465</td>\n",
       "      <td>760</td>\n",
       "      <td>1200</td>\n",
       "      <td>25</td>\n",
       "    </tr>\n",
       "    <tr>\n",
       "      <th>8</th>\n",
       "      <td>55-59</td>\n",
       "      <td>703</td>\n",
       "      <td>491</td>\n",
       "      <td>731</td>\n",
       "      <td>1139</td>\n",
       "      <td>30</td>\n",
       "    </tr>\n",
       "    <tr>\n",
       "      <th>9</th>\n",
       "      <td>60-64</td>\n",
       "      <td>610</td>\n",
       "      <td>460</td>\n",
       "      <td>670</td>\n",
       "      <td>928</td>\n",
       "      <td>35</td>\n",
       "    </tr>\n",
       "    <tr>\n",
       "      <th>10</th>\n",
       "      <td>65-69</td>\n",
       "      <td>580</td>\n",
       "      <td>389</td>\n",
       "      <td>636</td>\n",
       "      <td>686</td>\n",
       "      <td>35</td>\n",
       "    </tr>\n",
       "    <tr>\n",
       "      <th>11</th>\n",
       "      <td>&gt;=70</td>\n",
       "      <td>1221</td>\n",
       "      <td>637</td>\n",
       "      <td>1249</td>\n",
       "      <td>1387</td>\n",
       "      <td>66</td>\n",
       "    </tr>\n",
       "  </tbody>\n",
       "</table>\n",
       "</div>"
      ],
      "text/plain": [
       "bmi_categories age_band_jan1  healthy weight  obese  overweight  \\\n",
       "0                      15-19              59      4          14   \n",
       "1                      20-24             586     66         159   \n",
       "2                      25-29             839    168         367   \n",
       "3                      30-34             920    259         480   \n",
       "4                      35-39             840    308         579   \n",
       "5                      40-44             802    320         566   \n",
       "6                      45-49             695    407         638   \n",
       "7                      50-54             677    465         760   \n",
       "8                      55-59             703    491         731   \n",
       "9                      60-64             610    460         670   \n",
       "10                     65-69             580    389         636   \n",
       "11                      >=70            1221    637        1249   \n",
       "\n",
       "bmi_categories  severely obese  underweight  \n",
       "0                          119           18  \n",
       "1                          844           78  \n",
       "2                         1400           74  \n",
       "3                         1509           57  \n",
       "4                         1556           49  \n",
       "5                         1338           35  \n",
       "6                         1272           30  \n",
       "7                         1200           25  \n",
       "8                         1139           30  \n",
       "9                          928           35  \n",
       "10                         686           35  \n",
       "11                        1387           66  "
      ]
     },
     "execution_count": 77,
     "metadata": {},
     "output_type": "execute_result"
    }
   ],
   "source": [
    "plot_data = pd.pivot_table(plot_data, values='count', index='age_band_jan1', columns='bmi_categories')\\\n",
    ".reset_index()\n",
    "\n",
    "plot_data"
   ]
  },
  {
   "cell_type": "code",
   "execution_count": 78,
   "id": "e5568307",
   "metadata": {
    "ExecuteTime": {
     "end_time": "2022-03-23T07:50:29.553008Z",
     "start_time": "2022-03-23T07:50:29.530551Z"
    }
   },
   "outputs": [
    {
     "name": "stderr",
     "output_type": "stream",
     "text": [
      "/tmp/ipykernel_14781/922130125.py:1: FutureWarning: Dropping of nuisance columns in DataFrame reductions (with 'numeric_only=None') is deprecated; in a future version this will raise TypeError.  Select only valid columns before calling the reduction.\n",
      "  plot_data.iloc[:, 1:] = plot_data.iloc[:, 1:].div(plot_data.sum(axis=1), axis=0)\n"
     ]
    },
    {
     "data": {
      "text/html": [
       "<div>\n",
       "<style scoped>\n",
       "    .dataframe tbody tr th:only-of-type {\n",
       "        vertical-align: middle;\n",
       "    }\n",
       "\n",
       "    .dataframe tbody tr th {\n",
       "        vertical-align: top;\n",
       "    }\n",
       "\n",
       "    .dataframe thead th {\n",
       "        text-align: right;\n",
       "    }\n",
       "</style>\n",
       "<table border=\"1\" class=\"dataframe\">\n",
       "  <thead>\n",
       "    <tr style=\"text-align: right;\">\n",
       "      <th>bmi_categories</th>\n",
       "      <th>age_band_jan1</th>\n",
       "      <th>severely obese</th>\n",
       "      <th>obese</th>\n",
       "      <th>overweight</th>\n",
       "      <th>healthy weight</th>\n",
       "      <th>underweight</th>\n",
       "    </tr>\n",
       "  </thead>\n",
       "  <tbody>\n",
       "    <tr>\n",
       "      <th>0</th>\n",
       "      <td>15-19</td>\n",
       "      <td>0.556075</td>\n",
       "      <td>0.018692</td>\n",
       "      <td>0.065421</td>\n",
       "      <td>0.275701</td>\n",
       "      <td>0.084112</td>\n",
       "    </tr>\n",
       "    <tr>\n",
       "      <th>1</th>\n",
       "      <td>20-24</td>\n",
       "      <td>0.487017</td>\n",
       "      <td>0.038084</td>\n",
       "      <td>0.091748</td>\n",
       "      <td>0.338142</td>\n",
       "      <td>0.045009</td>\n",
       "    </tr>\n",
       "    <tr>\n",
       "      <th>2</th>\n",
       "      <td>25-29</td>\n",
       "      <td>0.491573</td>\n",
       "      <td>0.058989</td>\n",
       "      <td>0.128862</td>\n",
       "      <td>0.294593</td>\n",
       "      <td>0.025983</td>\n",
       "    </tr>\n",
       "    <tr>\n",
       "      <th>3</th>\n",
       "      <td>30-34</td>\n",
       "      <td>0.467907</td>\n",
       "      <td>0.080310</td>\n",
       "      <td>0.148837</td>\n",
       "      <td>0.285271</td>\n",
       "      <td>0.017674</td>\n",
       "    </tr>\n",
       "    <tr>\n",
       "      <th>4</th>\n",
       "      <td>35-39</td>\n",
       "      <td>0.466987</td>\n",
       "      <td>0.092437</td>\n",
       "      <td>0.173770</td>\n",
       "      <td>0.252101</td>\n",
       "      <td>0.014706</td>\n",
       "    </tr>\n",
       "    <tr>\n",
       "      <th>5</th>\n",
       "      <td>40-44</td>\n",
       "      <td>0.437112</td>\n",
       "      <td>0.104541</td>\n",
       "      <td>0.184907</td>\n",
       "      <td>0.262006</td>\n",
       "      <td>0.011434</td>\n",
       "    </tr>\n",
       "    <tr>\n",
       "      <th>6</th>\n",
       "      <td>45-49</td>\n",
       "      <td>0.418146</td>\n",
       "      <td>0.133794</td>\n",
       "      <td>0.209730</td>\n",
       "      <td>0.228468</td>\n",
       "      <td>0.009862</td>\n",
       "    </tr>\n",
       "    <tr>\n",
       "      <th>7</th>\n",
       "      <td>50-54</td>\n",
       "      <td>0.383754</td>\n",
       "      <td>0.148705</td>\n",
       "      <td>0.243044</td>\n",
       "      <td>0.216501</td>\n",
       "      <td>0.007995</td>\n",
       "    </tr>\n",
       "    <tr>\n",
       "      <th>8</th>\n",
       "      <td>55-59</td>\n",
       "      <td>0.368132</td>\n",
       "      <td>0.158694</td>\n",
       "      <td>0.236264</td>\n",
       "      <td>0.227214</td>\n",
       "      <td>0.009696</td>\n",
       "    </tr>\n",
       "    <tr>\n",
       "      <th>9</th>\n",
       "      <td>60-64</td>\n",
       "      <td>0.343322</td>\n",
       "      <td>0.170181</td>\n",
       "      <td>0.247873</td>\n",
       "      <td>0.225675</td>\n",
       "      <td>0.012949</td>\n",
       "    </tr>\n",
       "    <tr>\n",
       "      <th>10</th>\n",
       "      <td>65-69</td>\n",
       "      <td>0.294927</td>\n",
       "      <td>0.167240</td>\n",
       "      <td>0.273431</td>\n",
       "      <td>0.249355</td>\n",
       "      <td>0.015047</td>\n",
       "    </tr>\n",
       "    <tr>\n",
       "      <th>11</th>\n",
       "      <td>&gt;=70</td>\n",
       "      <td>0.304167</td>\n",
       "      <td>0.139693</td>\n",
       "      <td>0.273904</td>\n",
       "      <td>0.267763</td>\n",
       "      <td>0.014474</td>\n",
       "    </tr>\n",
       "  </tbody>\n",
       "</table>\n",
       "</div>"
      ],
      "text/plain": [
       "bmi_categories age_band_jan1  severely obese     obese  overweight  \\\n",
       "0                      15-19        0.556075  0.018692    0.065421   \n",
       "1                      20-24        0.487017  0.038084    0.091748   \n",
       "2                      25-29        0.491573  0.058989    0.128862   \n",
       "3                      30-34        0.467907  0.080310    0.148837   \n",
       "4                      35-39        0.466987  0.092437    0.173770   \n",
       "5                      40-44        0.437112  0.104541    0.184907   \n",
       "6                      45-49        0.418146  0.133794    0.209730   \n",
       "7                      50-54        0.383754  0.148705    0.243044   \n",
       "8                      55-59        0.368132  0.158694    0.236264   \n",
       "9                      60-64        0.343322  0.170181    0.247873   \n",
       "10                     65-69        0.294927  0.167240    0.273431   \n",
       "11                      >=70        0.304167  0.139693    0.273904   \n",
       "\n",
       "bmi_categories  healthy weight  underweight  \n",
       "0                     0.275701     0.084112  \n",
       "1                     0.338142     0.045009  \n",
       "2                     0.294593     0.025983  \n",
       "3                     0.285271     0.017674  \n",
       "4                     0.252101     0.014706  \n",
       "5                     0.262006     0.011434  \n",
       "6                     0.228468     0.009862  \n",
       "7                     0.216501     0.007995  \n",
       "8                     0.227214     0.009696  \n",
       "9                     0.225675     0.012949  \n",
       "10                    0.249355     0.015047  \n",
       "11                    0.267763     0.014474  "
      ]
     },
     "execution_count": 78,
     "metadata": {},
     "output_type": "execute_result"
    }
   ],
   "source": [
    "plot_data.iloc[:, 1:] = plot_data.iloc[:, 1:].div(plot_data.sum(axis=1), axis=0)\n",
    "plot_data = \\\n",
    "plot_data[['age_band_jan1', 'underweight', 'healthy weight', 'overweight', 'obese', 'severely obese']]\n",
    "plot_data"
   ]
  },
  {
   "cell_type": "code",
   "execution_count": 86,
   "id": "3e121c26",
   "metadata": {
    "ExecuteTime": {
     "end_time": "2022-03-23T07:54:03.596307Z",
     "start_time": "2022-03-23T07:54:03.361211Z"
    }
   },
   "outputs": [
    {
     "data": {
      "text/plain": [
       "Text(0.5, 1.0, 'BMI categories')"
      ]
     },
     "execution_count": 86,
     "metadata": {},
     "output_type": "execute_result"
    },
    {
     "data": {
      "image/png": "[encoded data removed]",
      "text/plain": [
       "<Figure size 1296x576 with 1 Axes>"
      ]
     },
     "metadata": {
      "needs_background": "light"
     },
     "output_type": "display_data"
    }
   ],
   "source": [
    "plot_data.plot(\n",
    "x='age_band_jan1',\n",
    "kind = 'bar',\n",
    "stacked = True,\n",
    "figsize=(18,8))\n",
    "\n",
    "plt.title('BMI categories')"
   ]
  },
  {
   "cell_type": "code",
   "execution_count": null,
   "id": "fdeb1001",
   "metadata": {},
   "outputs": [],
   "source": []
  }
 ],
 "metadata": {
  "kernelspec": {
   "display_name": "Python 3 (ipykernel)",
   "language": "python",
   "name": "python3"
  },
  "language_info": {
   "codemirror_mode": {
    "name": "ipython",
    "version": 3
   },
   "file_extension": ".py",
   "mimetype": "text/x-python",
   "name": "python",
   "nbconvert_exporter": "python",
   "pygments_lexer": "ipython3",
   "version": "3.9.7"
  },
  "toc": {
   "base_numbering": 1,
   "nav_menu": {},
   "number_sections": true,
   "sideBar": true,
   "skip_h1_title": false,
   "title_cell": "Table of Contents",
   "title_sidebar": "Contents",
   "toc_cell": false,
   "toc_position": {},
   "toc_section_display": true,
   "toc_window_display": false
  },
  "varInspector": {
   "cols": {
    "lenName": 16,
    "lenType": 16,
    "lenVar": 40
   },
   "kernels_config": {
    "python": {
     "delete_cmd_postfix": "",
     "delete_cmd_prefix": "del ",
     "library": "var_list.py",
     "varRefreshCmd": "print(var_dic_list())"
    },
    "r": {
     "delete_cmd_postfix": ") ",
     "delete_cmd_prefix": "rm(",
     "library": "var_list.r",
     "varRefreshCmd": "cat(var_dic_list()) "
    }
   },
   "types_to_exclude": [
    "module",
    "function",
    "builtin_function_or_method",
    "instance",
    "_Feature"
   ],
   "window_display": true
  }
 },
 "nbformat": 4,
 "nbformat_minor": 5
}
